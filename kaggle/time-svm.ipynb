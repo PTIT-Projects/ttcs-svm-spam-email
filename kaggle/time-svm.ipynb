{
 "cells": [
  {
   "cell_type": "code",
   "execution_count": 1,
   "id": "dc45432e",
   "metadata": {
    "execution": {
     "iopub.execute_input": "2025-04-14T07:08:28.915547Z",
     "iopub.status.busy": "2025-04-14T07:08:28.915098Z",
     "iopub.status.idle": "2025-04-14T07:08:33.988315Z",
     "shell.execute_reply": "2025-04-14T07:08:33.987416Z"
    },
    "id": "f0O2Yk_GQXHW",
    "papermill": {
     "duration": 5.079488,
     "end_time": "2025-04-14T07:08:33.990076",
     "exception": false,
     "start_time": "2025-04-14T07:08:28.910588",
     "status": "completed"
    },
    "tags": []
   },
   "outputs": [
    {
     "name": "stderr",
     "output_type": "stream",
     "text": [
      "[nltk_data] Downloading package stopwords to /usr/share/nltk_data...\n",
      "[nltk_data]   Package stopwords is already up-to-date!\n",
      "[nltk_data] Downloading package punkt_tab to /usr/share/nltk_data...\n",
      "[nltk_data]   Package punkt_tab is already up-to-date!\n"
     ]
    }
   ],
   "source": [
    "import numpy as np\n",
    "import pandas as pd\n",
    "import re\n",
    "import nltk\n",
    "import string\n",
    "nltk.download('stopwords')\n",
    "nltk.download('punkt_tab')\n",
    "from nltk.corpus import stopwords\n",
    "from nltk.stem.porter import PorterStemmer\n",
    "from nltk.tokenize import word_tokenize\n",
    "from sklearn.feature_extraction.text import TfidfVectorizer, HashingVectorizer\n",
    "from sklearn.model_selection import train_test_split\n",
    "from bs4 import BeautifulSoup\n",
    "from sklearn.metrics import confusion_matrix,accuracy_score, f1_score, precision_score,recall_score,classification_report\n",
    "import time\n",
    "from sklearn.svm import SVC\n",
    "from google.colab import drive\n",
    "import pickle\n",
    "from scipy.sparse import csr_matrix"
   ]
  },
  {
   "cell_type": "code",
   "execution_count": 2,
   "id": "c7ec083d",
   "metadata": {
    "execution": {
     "iopub.execute_input": "2025-04-14T07:08:33.996210Z",
     "iopub.status.busy": "2025-04-14T07:08:33.995730Z",
     "iopub.status.idle": "2025-04-14T07:08:34.010942Z",
     "shell.execute_reply": "2025-04-14T07:08:34.009927Z"
    },
    "id": "UZjqEIB2gKyM",
    "papermill": {
     "duration": 0.019985,
     "end_time": "2025-04-14T07:08:34.012627",
     "exception": false,
     "start_time": "2025-04-14T07:08:33.992642",
     "status": "completed"
    },
    "tags": []
   },
   "outputs": [],
   "source": [
    "class SVM:\n",
    "    def __init__(self, lambda_param=1e-4, epoch=1000, batch_size=256, tol=1e-4, random_state=42):\n",
    "        self.lambda_param = lambda_param\n",
    "        self.epoch = epoch\n",
    "        self.batch_size = batch_size\n",
    "        self.tol = tol\n",
    "        self.random_state = random_state\n",
    "        self.is_trained = False\n",
    "\n",
    "    def fit(self, X, y):\n",
    "        if hasattr(X, \"toarray\"):\n",
    "            X = csr_matrix(X)\n",
    "        \n",
    "        self.num_samples, self.num_features = X.shape\n",
    "\n",
    "        y_unique = np.unique(y)\n",
    "        if len(y_unique) != 2:\n",
    "            raise ValueError(\"Phân loại nhị phân cần 2 nhãn\")\n",
    "        if set(y_unique) == {0, 1}:\n",
    "            y = np.where(y == 0, -1, 1)\n",
    "        \n",
    "        self.w = np.zeros(self.num_features, dtype=np.float32)\n",
    "        self.b = 0.0\n",
    "\n",
    "        np.random.seed(self.random_state)\n",
    "        t = 0\n",
    "        previous_objective = float(\"inf\")\n",
    "\n",
    "        for ep in range(1, self.epoch + 1):\n",
    "            indices = np.random.permutation(self.num_samples)\n",
    "            for start in range(0, self.num_samples, self.batch_size):\n",
    "                t += 1\n",
    "                end = start + self.batch_size\n",
    "                batch_idx = indices[start:end]\n",
    "                X_batch = X[batch_idx]\n",
    "                y_batch = y[batch_idx]\n",
    "                \n",
    "                eta = 1.0 / (self.lambda_param * t)\n",
    "                margins = y_batch * (X_batch.dot(self.w) + self.b)\n",
    "                mask = margins < 1\n",
    "                self.w *= (1 - eta * self.lambda_param)\n",
    "                if np.any(mask):\n",
    "                    X_violate = X_batch[mask]\n",
    "                    y_violate = y_batch[mask]\n",
    "                    self.w += (eta / self.batch_size) * np.dot(y_violate, X_violate.toarray() if hasattr(X_violate, \"toarray\") else X_violate)\n",
    "                    self.b += (eta / self.batch_size) * np.sum(y_violate)\n",
    "                norm_w = np.linalg.norm(self.w)\n",
    "                factor = min(1, (1.0 / np.sqrt(self.lambda_param)) / (norm_w))\n",
    "                self.w *= factor\n",
    "\n",
    "            decision = X.dot(self.w) + self.b\n",
    "            hinge_losses = np.maximum(0, 1 - y * decision)\n",
    "            objective = 0.5 * self.lambda_param * np.dot(self.w, self.w) + np.mean(hinge_losses)\n",
    "            \n",
    "            if ep % 10 == 0:\n",
    "                print(f\"Epoch {ep}, Giá trị hàm mục tiêu: {objective:.4f}\")\n",
    "            \n",
    "            if abs(previous_objective - objective) < self.tol:\n",
    "                print(f\"Dừng sớm tại epoch {ep}, giá trị hàm mục tiêu thay đổi: {abs(previous_objective - objective):.6f}\")\n",
    "                break\n",
    "            previous_objective = objective\n",
    "\n",
    "        self.is_trained = True\n",
    "        return self\n",
    "\n",
    "    def predict(self, X):\n",
    "        if not self.is_trained:\n",
    "            raise Exception(\"Mô hình chưa được huấn luỵen\")\n",
    "            \n",
    "        if hasattr(X, \"toarray\"):\n",
    "            X = csr_matrix(X)\n",
    "            \n",
    "        decision = X.dot(self.w) + self.b\n",
    "        return np.where(decision >= 0, 1, 0)\n"
   ]
  },
  {
   "cell_type": "code",
   "execution_count": 3,
   "id": "9b110d71",
   "metadata": {
    "execution": {
     "iopub.execute_input": "2025-04-14T07:08:34.018258Z",
     "iopub.status.busy": "2025-04-14T07:08:34.017903Z",
     "iopub.status.idle": "2025-04-14T07:08:34.032287Z",
     "shell.execute_reply": "2025-04-14T07:08:34.031292Z"
    },
    "id": "PMFloxHDPMgT",
    "papermill": {
     "duration": 0.018991,
     "end_time": "2025-04-14T07:08:34.033913",
     "exception": false,
     "start_time": "2025-04-14T07:08:34.014922",
     "status": "completed"
    },
    "tags": []
   },
   "outputs": [],
   "source": [
    "def calc_time_svm():\n",
    "    df = pd.read_csv(f\"https://media.githubusercontent.com/media/PTIT-Projects/ttcs-svm-spam-email/refs/heads/main/dataset/combined_data.csv\")\n",
    "    print(\"Start preprocessing data\")\n",
    "    prep_start_time = time.time()\n",
    "    df['text'] = df['text'].str.lower()\n",
    "    \n",
    "    # xoa ky tu khong phai ASCII\n",
    "    df['text'] = df['text'].apply(lambda x: re.sub(r'[^\\x00-\\x7F]+', '', x) if isinstance(x, str) else x)\n",
    "\n",
    "    # xoa khoang trang\n",
    "    df['text'] = df['text'].apply(lambda x: re.sub(r'^\\s+|\\s+$', '', x).strip() if isinstance(x, str) else x)\n",
    "\n",
    "    # xoa html, xml\n",
    "    def remove_html_xml(text):\n",
    "        try:\n",
    "            soup = BeautifulSoup(text, 'html.parser')\n",
    "            return soup.get_text()\n",
    "        except:\n",
    "            return text\n",
    "    df['text'] = df['text'].apply(remove_html_xml)\n",
    "    def remove_special_characters(word):\n",
    "        return word.translate(str.maketrans('', '', string.punctuation))\n",
    "    df['text'] = df['text'].apply(remove_special_characters)\n",
    "    def remove_urls(text):\n",
    "        return re.sub(r'http\\S+|www\\S+|\\S+\\.(com|net|org|edu|gov|mil|int|info|biz|co)\\S+', '', text)\n",
    "    df['text'] = df['text'].apply(remove_urls)\n",
    "    def remove_emails(text):\n",
    "        return re.sub(r'\\S+@\\S+', '', text)\n",
    "    df['text'] = df['text'].apply(remove_emails)\n",
    "    df['text'] = df['text'].apply(word_tokenize)\n",
    "    ENGLISH_STOP_WORDS = set(stopwords.words('english'))\n",
    "    def remove_stop_words(words):\n",
    "        return [word for word in words if word not in ENGLISH_STOP_WORDS]\n",
    "    df['text'] = df['text'].apply(remove_stop_words)\n",
    "    stemmer = PorterStemmer()\n",
    "    def stem_words(words):\n",
    "        return [stemmer.stem(word) for word in words]\n",
    "    df['text'] = df['text'].apply(stem_words)\n",
    "    df['text'] = df['text'].apply(' '.join)\n",
    "    X = df['text']\n",
    "    y = df['label']\n",
    "    X_train, X_test, y_train, y_test = train_test_split(X, y, test_size=0.2, random_state=1)\n",
    "    hashing_vectorizer = TfidfVectorizer()\n",
    "    X_train_hashed = hashing_vectorizer.fit_transform(X_train)\n",
    "    X_test_hashed = hashing_vectorizer.transform(X_test)\n",
    "    print(X_train_hashed.shape)\n",
    "    print(\"End preprocessing data\")\n",
    "    prep_end_time = time.time()\n",
    "    svm_base = SVM()\n",
    "    start_time = time.time()\n",
    "    svm_base.fit(X_train_hashed, y_train)\n",
    "    end_time = time.time()\n",
    "    y_pred = svm_base.predict(X_test_hashed)\n",
    "    accuracy = accuracy_score(y_test, y_pred)\n",
    "    f1 = f1_score(y_test, y_pred)\n",
    "    result = {\n",
    "    'class_name': svm_base.__class__.__name__,\n",
    "    'n': len(df),\n",
    "    'time': end_time - start_time,\n",
    "    'prep_time': prep_end_time - prep_start_time ,\n",
    "    'accuracy_score': accuracy,\n",
    "    'f1_score': f1\n",
    "    }\n",
    "    results_df = pd.DataFrame([result])\n",
    "    print(results_df)\n",
    "    results_df.to_csv(f'time.csv', index=False)\n",
    "    model_filename = f'linear_svm.pkl'\n",
    "    vectorizer_filename = f'vectorizer.pkl'\n",
    "    \n",
    "    with open(model_filename, 'wb') as model_file:\n",
    "        pickle.dump(svm_base, model_file)\n",
    "    \n",
    "    with open(vectorizer_filename, 'wb') as vectorizer_file:\n",
    "        pickle.dump(hashing_vectorizer, vectorizer_file)"
   ]
  },
  {
   "cell_type": "code",
   "execution_count": 4,
   "id": "d9706f12",
   "metadata": {
    "execution": {
     "iopub.execute_input": "2025-04-14T07:08:34.039575Z",
     "iopub.status.busy": "2025-04-14T07:08:34.039270Z",
     "iopub.status.idle": "2025-04-14T07:18:38.636261Z",
     "shell.execute_reply": "2025-04-14T07:18:38.635043Z"
    },
    "id": "IcQD3SHrYQFg",
    "papermill": {
     "duration": 604.601609,
     "end_time": "2025-04-14T07:18:38.637852",
     "exception": false,
     "start_time": "2025-04-14T07:08:34.036243",
     "status": "completed"
    },
    "tags": []
   },
   "outputs": [
    {
     "name": "stdout",
     "output_type": "stream",
     "text": [
      "Start preprocessing data\n",
      "(66758, 217776)\n",
      "End preprocessing data\n",
      "Epoch 10, Giá trị hàm mục tiêu: 0.1201\n",
      "Epoch 20, Giá trị hàm mục tiêu: 0.1174\n",
      "Dừng sớm tại epoch 22, giá trị hàm mục tiêu thay đổi: 0.000080\n",
      "  class_name      n       time   prep_time  accuracy_score  f1_score\n",
      "0        SVM  83448  250.78468  349.018584        0.981786  0.982838\n"
     ]
    }
   ],
   "source": [
    "calc_time_svm()"
   ]
  }
 ],
 "metadata": {
  "colab": {
   "provenance": []
  },
  "kaggle": {
   "accelerator": "none",
   "dataSources": [],
   "dockerImageVersionId": 31012,
   "isGpuEnabled": false,
   "isInternetEnabled": true,
   "language": "python",
   "sourceType": "notebook"
  },
  "kernelspec": {
   "display_name": "Python 3",
   "language": "python",
   "name": "python3"
  },
  "language_info": {
   "codemirror_mode": {
    "name": "ipython",
    "version": 3
   },
   "file_extension": ".py",
   "mimetype": "text/x-python",
   "name": "python",
   "nbconvert_exporter": "python",
   "pygments_lexer": "ipython3",
   "version": "3.11.11"
  },
  "papermill": {
   "default_parameters": {},
   "duration": 615.787225,
   "end_time": "2025-04-14T07:18:39.361318",
   "environment_variables": {},
   "exception": null,
   "input_path": "__notebook__.ipynb",
   "output_path": "__notebook__.ipynb",
   "parameters": {},
   "start_time": "2025-04-14T07:08:23.574093",
   "version": "2.6.0"
  }
 },
 "nbformat": 4,
 "nbformat_minor": 5
}
